{
  "cells": [
    {
      "cell_type": "code",
      "execution_count": null,
      "metadata": {
        "collapsed": false
      },
      "outputs": [],
      "source": [
        "%matplotlib inline"
      ]
    },
    {
      "cell_type": "markdown",
      "metadata": {},
      "source": [
        "\n# Visualizing named colors\n\n\nThis plots a list of the named colors supported in matplotlib. Note that\n`xkcd colors <xkcd-colors>` are supported as well, but are not listed here\nfor brevity.\n\nFor more information on colors in matplotlib see\n\n* the :doc:`/tutorials/colors/colors` tutorial;\n* the `matplotlib.colors` API;\n* the :doc:`/gallery/color/color_demo`.\n\n"
      ]
    },
    {
      "cell_type": "code",
      "execution_count": null,
      "metadata": {
        "collapsed": false
      },
      "outputs": [],
      "source": [
        "import matplotlib.pyplot as plt\nimport matplotlib.colors as mcolors\n\n\ndef plot_colortable(colors, title, sort_colors=True, emptycols=0):\n\n    cell_width = 212\n    cell_height = 22\n    swatch_width = 48\n    margin = 12\n    topmargin = 40\n\n    # Sort colors by hue, saturation, value and name.\n    by_hsv = ((tuple(mcolors.rgb_to_hsv(mcolors.to_rgba(color)[:3])), name)\n                    for name, color in colors.items())\n    if sort_colors is True:\n        by_hsv = sorted(by_hsv)\n    names = [name for hsv, name in by_hsv]\n\n    n = len(names)\n    ncols = 4 - emptycols\n    nrows = n // ncols + int(n % ncols > 0)\n\n    width = cell_width * 4 + 2 * margin\n    height = cell_height * nrows + margin + topmargin\n    dpi = 72\n\n    fig, ax = plt.subplots(figsize=(width / dpi, height / dpi), dpi=dpi)\n    fig.subplots_adjust(margin/width, margin/height,\n                        (width-margin)/width, (height-topmargin)/height)\n    ax.set_xlim(0, cell_width * 4)\n    ax.set_ylim(cell_height * (nrows-0.5), -cell_height/2.)\n    ax.yaxis.set_visible(False)\n    ax.xaxis.set_visible(False)\n    ax.set_axis_off()\n    ax.set_title(title, fontsize=24, loc=\"left\", pad=10)\n\n    for i, name in enumerate(names):\n        row = i % nrows\n        col = i // nrows\n        y = row * cell_height\n\n        swatch_start_x = cell_width * col\n        swatch_end_x = cell_width * col + swatch_width\n        text_pos_x = cell_width * col + swatch_width + 7\n\n        ax.text(text_pos_x, y, name, fontsize=14,\n                horizontalalignment='left',\n                verticalalignment='center')\n\n        ax.hlines(y, swatch_start_x, swatch_end_x,\n                  color=colors[name], linewidth=18)\n\n    return fig\n\nplot_colortable(mcolors.BASE_COLORS, \"Base Colors\",\n                sort_colors=False, emptycols=1)\nplot_colortable(mcolors.TABLEAU_COLORS, \"Tableau Palette\",\n                sort_colors=False, emptycols=2)\n\n#sphinx_gallery_thumbnail_number = 3\nplot_colortable(mcolors.CSS4_COLORS, \"CSS Colors\")\n\n# Optionally plot the XKCD colors (Caution: will produce large figure)\n#xkcd_fig = plot_colortable(mcolors.XKCD_COLORS, \"XKCD Colors\")\n#xkcd_fig.savefig(\"XKCD_Colors.png\")\n\nplt.show()"
      ]
    },
    {
      "cell_type": "markdown",
      "metadata": {},
      "source": [
        "------------\n\nReferences\n\"\"\"\"\"\"\"\"\"\"\n\nThe use of the following functions, methods, classes and modules is shown\nin this example:\n\n"
      ]
    },
    {
      "cell_type": "code",
      "execution_count": null,
      "metadata": {
        "collapsed": false
      },
      "outputs": [],
      "source": [
        "import matplotlib\nmatplotlib.colors\nmatplotlib.colors.rgb_to_hsv\nmatplotlib.colors.to_rgba\nmatplotlib.figure.Figure.get_size_inches\nmatplotlib.figure.Figure.subplots_adjust\nmatplotlib.axes.Axes.text\nmatplotlib.axes.Axes.hlines"
      ]
    }
  ],
  "metadata": {
    "kernelspec": {
      "display_name": "Python 3",
      "language": "python",
      "name": "python3"
    },
    "language_info": {
      "codemirror_mode": {
        "name": "ipython",
        "version": 3
      },
      "file_extension": ".py",
      "mimetype": "text/x-python",
      "name": "python",
      "nbconvert_exporter": "python",
      "pygments_lexer": "ipython3",
      "version": "3.7.3"
    }
  },
  "nbformat": 4,
  "nbformat_minor": 0
}