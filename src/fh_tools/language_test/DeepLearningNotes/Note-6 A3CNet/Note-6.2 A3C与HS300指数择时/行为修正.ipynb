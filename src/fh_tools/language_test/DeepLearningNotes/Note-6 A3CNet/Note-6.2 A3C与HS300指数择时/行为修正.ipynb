{
 "cells": [
  {
   "cell_type": "code",
   "execution_count": 1,
   "metadata": {
    "collapsed": true
   },
   "outputs": [],
   "source": [
    "import numpy as np\n",
    "import pandas as pd\n",
    "import seaborn as sns\n",
    "%matplotlib inline\n",
    "\n",
    "_EPSILON = 1e-6  # avoid nan"
   ]
  },
  {
   "cell_type": "code",
   "execution_count": 2,
   "metadata": {
    "collapsed": true
   },
   "outputs": [],
   "source": [
    "def sigmoid(x):\n",
    "    return 1 / (np.exp(-x) + 1)\n",
    "\n",
    "def softmax(x):\n",
    "    exp_array = np.exp(x)\n",
    "    return exp_array/np.sum(exp_array)\n",
    "\n",
    "# https://stackoverflow.com/questions/37292872/how-can-i-one-hot-encode-in-python\n",
    "def one_hot_encode(x, n_classes):\n",
    "    \"\"\"\n",
    "    One hot encode a list of sample labels. Return a one-hot encoded vector for each label.\n",
    "    : x: List of sample Labels\n",
    "    : return: Numpy array of one-hot encoded labels\n",
    "     \"\"\"\n",
    "    return np.eye(n_classes)[x]"
   ]
  },
  {
   "cell_type": "code",
   "execution_count": 3,
   "metadata": {
    "collapsed": true
   },
   "outputs": [],
   "source": [
    "actor_outputs = np.random.randint(-100, 100, size=(32, 3))\n",
    "critic_outputs = np.random.randint(-1000, 1000, size=(32))"
   ]
  },
  {
   "cell_type": "code",
   "execution_count": 4,
   "metadata": {
    "collapsed": true
   },
   "outputs": [],
   "source": [
    "policy = map(softmax, actor_outputs)\n",
    "policy = np.stack(list(policy), axis=0)\n",
    "\n",
    "stochastic_actions = np.random.randint(3, size=(32))\n",
    "stochastic_onehot = one_hot_encode(stochastic_actions, 3)\n",
    "stochastic_policy_action = np.sum(stochastic_onehot * policy, axis=1)\n",
    "\n",
    "greedy_actions = np.argmax(policy, axis=1)\n",
    "greedy_onehot = one_hot_encode(greedy_actions, 3)\n",
    "greedy_policy_action = np.sum(greedy_onehot * policy, axis=1)"
   ]
  },
  {
   "cell_type": "code",
   "execution_count": 5,
   "metadata": {},
   "outputs": [
    {
     "data": {
      "text/html": [
       "<div>\n",
       "<style>\n",
       "    .dataframe thead tr:only-child th {\n",
       "        text-align: right;\n",
       "    }\n",
       "\n",
       "    .dataframe thead th {\n",
       "        text-align: left;\n",
       "    }\n",
       "\n",
       "    .dataframe tbody tr th {\n",
       "        vertical-align: top;\n",
       "    }\n",
       "</style>\n",
       "<table border=\"1\" class=\"dataframe\">\n",
       "  <thead>\n",
       "    <tr style=\"text-align: right;\">\n",
       "      <th></th>\n",
       "      <th>greedy_actions</th>\n",
       "      <th>stochastic_actions</th>\n",
       "    </tr>\n",
       "  </thead>\n",
       "  <tbody>\n",
       "    <tr>\n",
       "      <th>count</th>\n",
       "      <td>3.200000e+01</td>\n",
       "      <td>3.200000e+01</td>\n",
       "    </tr>\n",
       "    <tr>\n",
       "      <th>mean</th>\n",
       "      <td>4.395785e-03</td>\n",
       "      <td>1.004203e+01</td>\n",
       "    </tr>\n",
       "    <tr>\n",
       "      <th>std</th>\n",
       "      <td>2.242002e-02</td>\n",
       "      <td>5.874599e+00</td>\n",
       "    </tr>\n",
       "    <tr>\n",
       "      <th>min</th>\n",
       "      <td>-9.999995e-07</td>\n",
       "      <td>-9.999995e-07</td>\n",
       "    </tr>\n",
       "    <tr>\n",
       "      <th>25%</th>\n",
       "      <td>-9.999995e-07</td>\n",
       "      <td>5.006566e+00</td>\n",
       "    </tr>\n",
       "    <tr>\n",
       "      <th>50%</th>\n",
       "      <td>-9.999995e-07</td>\n",
       "      <td>1.381551e+01</td>\n",
       "    </tr>\n",
       "    <tr>\n",
       "      <th>75%</th>\n",
       "      <td>-9.956233e-07</td>\n",
       "      <td>1.381551e+01</td>\n",
       "    </tr>\n",
       "    <tr>\n",
       "      <th>max</th>\n",
       "      <td>1.269269e-01</td>\n",
       "      <td>1.381551e+01</td>\n",
       "    </tr>\n",
       "  </tbody>\n",
       "</table>\n",
       "</div>"
      ],
      "text/plain": [
       "       greedy_actions  stochastic_actions\n",
       "count    3.200000e+01        3.200000e+01\n",
       "mean     4.395785e-03        1.004203e+01\n",
       "std      2.242002e-02        5.874599e+00\n",
       "min     -9.999995e-07       -9.999995e-07\n",
       "25%     -9.999995e-07        5.006566e+00\n",
       "50%     -9.999995e-07        1.381551e+01\n",
       "75%     -9.956233e-07        1.381551e+01\n",
       "max      1.269269e-01        1.381551e+01"
      ]
     },
     "execution_count": 5,
     "metadata": {},
     "output_type": "execute_result"
    }
   ],
   "source": [
    "tmp = pd.DataFrame()\n",
    "tmp['greedy_actions'] = -np.log(greedy_policy_action + _EPSILON)\n",
    "tmp['stochastic_actions'] = -np.log(stochastic_policy_action + _EPSILON)\n",
    "\n",
    "tmp.describe()"
   ]
  },
  {
   "cell_type": "code",
   "execution_count": 6,
   "metadata": {},
   "outputs": [
    {
     "data": {
      "text/plain": [
       "[0, 1, 2]"
      ]
     },
     "execution_count": 6,
     "metadata": {},
     "output_type": "execute_result"
    }
   ],
   "source": [
    "action_size = 3\n",
    "action_space = list(range(action_size))\n",
    "action_space"
   ]
  },
  {
   "cell_type": "code",
   "execution_count": 7,
   "metadata": {},
   "outputs": [
    {
     "data": {
      "text/plain": [
       "array([[  1.80485139e-35,   9.35762297e-14,   1.00000000e+00],\n",
       "       [  9.93307149e-01,   7.93146247e-30,   6.69285092e-03],\n",
       "       [  1.97925988e-32,   6.99199000e-56,   1.00000000e+00],\n",
       "       [  1.00000000e+00,   1.21609930e-37,   1.38879439e-11],\n",
       "       [  9.99999985e-01,   2.50656744e-46,   1.52299795e-08],\n",
       "       [  7.86844816e-63,   9.08666032e-80,   1.00000000e+00],\n",
       "       [  1.00000000e+00,   7.98490425e-30,   6.47023493e-26],\n",
       "       [  2.03109266e-42,   1.00000000e+00,   1.75879220e-25],\n",
       "       [  9.99997740e-01,   4.71115515e-58,   2.26032430e-06],\n",
       "       [  3.97544974e-31,   1.00000000e+00,   1.75879220e-25],\n",
       "       [  8.31528028e-07,   9.99999168e-01,   9.46262160e-57],\n",
       "       [  1.18506486e-27,   2.28569368e-49,   1.00000000e+00],\n",
       "       [  7.58256042e-10,   9.99999999e-01,   8.75651076e-27],\n",
       "       [  1.00000000e+00,   2.17052201e-29,   2.61027907e-23],\n",
       "       [  1.00000000e+00,   1.03770332e-53,   2.38026641e-26],\n",
       "       [  1.71390843e-15,   1.00000000e+00,   1.64581143e-38],\n",
       "       [  4.90609473e-35,   1.00000000e+00,   1.97925988e-32],\n",
       "       [  8.80797078e-01,   1.19202922e-01,   6.09018341e-13],\n",
       "       [  8.40859712e-50,   1.75879220e-25,   1.00000000e+00],\n",
       "       [  1.92874985e-22,   3.97544974e-31,   1.00000000e+00],\n",
       "       [  5.10908903e-12,   4.83454164e-68,   1.00000000e+00],\n",
       "       [  9.99999958e-01,   7.58256011e-10,   4.13993754e-08],\n",
       "       [  3.35350130e-04,   2.93649703e-30,   9.99664650e-01],\n",
       "       [  2.10097478e-19,   6.69285092e-03,   9.93307149e-01],\n",
       "       [  2.61027907e-23,   4.35961000e-28,   1.00000000e+00],\n",
       "       [  1.00000000e+00,   5.24288566e-22,   1.26641655e-14],\n",
       "       [  1.00000000e+00,   1.56288219e-18,   1.21609930e-37],\n",
       "       [  6.37586958e-59,   1.00000000e+00,   5.16642063e-55],\n",
       "       [  6.05460190e-39,   3.30570063e-37,   1.00000000e+00],\n",
       "       [  6.05460190e-39,   6.05460190e-39,   1.00000000e+00],\n",
       "       [  1.00000000e+00,   1.82510451e-78,   6.54284062e-69],\n",
       "       [  6.47023493e-26,   1.00000000e+00,   4.07955867e-41]])"
      ]
     },
     "execution_count": 7,
     "metadata": {},
     "output_type": "execute_result"
    }
   ],
   "source": [
    "policy"
   ]
  },
  {
   "cell_type": "code",
   "execution_count": 8,
   "metadata": {},
   "outputs": [
    {
     "data": {
      "text/plain": [
       "2"
      ]
     },
     "execution_count": 8,
     "metadata": {},
     "output_type": "execute_result"
    }
   ],
   "source": [
    "np.random.choice(action_space, 1, p=policy[0])[0]"
   ]
  },
  {
   "cell_type": "code",
   "execution_count": 9,
   "metadata": {},
   "outputs": [
    {
     "data": {
      "text/plain": [
       "0"
      ]
     },
     "execution_count": 9,
     "metadata": {},
     "output_type": "execute_result"
    }
   ],
   "source": [
    "np.random.randint(3)"
   ]
  },
  {
   "cell_type": "code",
   "execution_count": null,
   "metadata": {
    "collapsed": true
   },
   "outputs": [],
   "source": []
  }
 ],
 "metadata": {
  "kernelspec": {
   "display_name": "Python 3",
   "language": "python",
   "name": "python3"
  },
  "language_info": {
   "codemirror_mode": {
    "name": "ipython",
    "version": 3
   },
   "file_extension": ".py",
   "mimetype": "text/x-python",
   "name": "python",
   "nbconvert_exporter": "python",
   "pygments_lexer": "ipython3",
   "version": "3.6.3"
  }
 },
 "nbformat": 4,
 "nbformat_minor": 2
}
