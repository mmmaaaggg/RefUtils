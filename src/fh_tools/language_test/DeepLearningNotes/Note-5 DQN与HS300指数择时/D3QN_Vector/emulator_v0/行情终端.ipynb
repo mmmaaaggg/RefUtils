{
 "cells": [
  {
   "cell_type": "code",
   "execution_count": null,
   "metadata": {
    "collapsed": true
   },
   "outputs": [],
   "source": [
    "import os\n",
    "import h5py\n",
    "import numpy as np\n",
    "import pandas as pd\n",
    "from sklearn import preprocessing\n",
    "from scipy.stats import mstats\n",
    "from talib2feature import get_factors\n",
    "from high2low import high2low\n",
    "\n",
    "\n",
    "def get_factors_dataset(inputs):\n",
    "    Index = inputs.index\n",
    "    High = inputs.high.values\n",
    "    Low = inputs.low.values\n",
    "    Close = inputs.close.values\n",
    "    Open = inputs.open.values\n",
    "    Volume = inputs.volume.values\n",
    "    return get_factors(\n",
    "        Index, Open, Close, High, Low, Volume, \n",
    "        rolling=188, drop=True, normalization=False)    "
   ]
  },
  {
   "cell_type": "code",
   "execution_count": null,
   "metadata": {
    "collapsed": true
   },
   "outputs": [],
   "source": [
    "universe_list = os.listdir(\"Access/\")\n",
    "dataset = {}\n",
    "for i in universe_list:\n",
    "    stk_code = i[6:17].replace(\"_\", \".\")\n",
    "    path = \"Access/{}\".format(i)\n",
    "    min_quotes = pd.read_hdf(path)\n",
    "    min_quotes = high2low(min_quotes, \"5min\")\n",
    "    fac = get_factors_dataset(min_quotes)\n",
    "    dataset[stk_code] = fac\n",
    "    \n",
    "dataset = pd.Panel(dataset)\n",
    "\n",
    "dataset = dataset.transpose([2, 1, 0])\n",
    "tradeDays = pd.read_hdf(\"tradeDays.h5\")\n",
    "dataset_universe = pd.read_hdf(\"universe_SH50.h5\")"
   ]
  },
  {
   "cell_type": "code",
   "execution_count": null,
   "metadata": {
    "collapsed": true
   },
   "outputs": [],
   "source": [
    "DataSet = h5py.File(\"dataset_factors.h5\")\n",
    "dset = DataSet.create_dataset(\"talib_factors\", [468, 50, 50, 58, 16], chunks=True)\n",
    "for fth, f in enumerate(dataset.items):\n",
    "    print(f)\n",
    "    fac = dataset[f]\n",
    "    \n",
    "    \n",
    "    # 因子矩阵标准化\n",
    "    buffer_scale = []\n",
    "    for i in range(23, 491):\n",
    "        # time range\n",
    "        date = tradeDays[i]\n",
    "        start_date = tradeDays[i-16]\n",
    "        end_date = tradeDays[i-1]\n",
    "        # universe\n",
    "        stk = dataset_universe.loc[date].tolist()    \n",
    "        # factor scale\n",
    "        tmp = fac.loc[start_date:end_date, stk]\n",
    "        tmp = mstats.winsorize(tmp, limits=0.05, axis=1)    \n",
    "        tmp = preprocessing.scale(tmp, axis=1)\n",
    "        buffer_scale.append(tmp)\n",
    "    buffer_scale = np.stack(buffer_scale, axis=0)\n",
    "    buffer_scale = buffer_scale.reshape([468, 16, 50, 50])\n",
    "    buffer_scale = buffer_scale.transpose([0, 3, 2, 1])\n",
    "    dset[:, :, :, fth, :] = buffer_scale\n",
    "    \n",
    "DataSet.close()"
   ]
  },
  {
   "cell_type": "markdown",
   "metadata": {},
   "source": [
    "#### 行情终端"
   ]
  },
  {
   "cell_type": "code",
   "execution_count": 1,
   "metadata": {
    "collapsed": true
   },
   "outputs": [],
   "source": [
    "import os \n",
    "import h5py\n",
    "import numpy as np\n",
    "import pandas as pd"
   ]
  },
  {
   "cell_type": "code",
   "execution_count": 2,
   "metadata": {
    "collapsed": true
   },
   "outputs": [],
   "source": [
    "# DataSet for talib factors image\n",
    "# Time Uinverse Minutes Factors Days\n",
    "dataset = h5py.File(\"dataset_factors.h5\")\n",
    "dataset = dataset[\"talib_factors\"]\n",
    "\n",
    "# 交易日历\n",
    "tradeDays = pd.read_hdf(\"tradeDays.h5\").iloc[23:]\n",
    "tradeDays.reset_index(drop=True, inplace=True)\n",
    "\n",
    "# 股票池\n",
    "dataset_universe = pd.read_hdf(\"universe_SH50.h5\")"
   ]
  },
  {
   "cell_type": "code",
   "execution_count": 5,
   "metadata": {
    "collapsed": true
   },
   "outputs": [],
   "source": [
    "class Terminal(object):\n",
    "    def __init__(self):\n",
    "        self.factors = dataset\n",
    "        self.tradeDays = tradeDays\n",
    "        self.universe = dataset_universe\n",
    "        \n",
    "    def step(self, step):\n",
    "        day = self.tradeDays[step]\n",
    "        return self.factors[step], self.universe.loc[day].tolist()\n",
    "    \n",
    "    def reset(self):\n",
    "        return self.factors[0],  self.universe.iloc[0].tolist()\n",
    "        "
   ]
  },
  {
   "cell_type": "code",
   "execution_count": null,
   "metadata": {
    "collapsed": true
   },
   "outputs": [],
   "source": []
  }
 ],
 "metadata": {
  "kernelspec": {
   "display_name": "Python 3",
   "language": "python",
   "name": "python3"
  },
  "language_info": {
   "codemirror_mode": {
    "name": "ipython",
    "version": 3
   },
   "file_extension": ".py",
   "mimetype": "text/x-python",
   "name": "python",
   "nbconvert_exporter": "python",
   "pygments_lexer": "ipython3",
   "version": "3.6.3"
  }
 },
 "nbformat": 4,
 "nbformat_minor": 2
}
